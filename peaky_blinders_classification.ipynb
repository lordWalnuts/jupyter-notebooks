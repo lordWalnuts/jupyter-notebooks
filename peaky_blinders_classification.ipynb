{
  "nbformat": 4,
  "nbformat_minor": 0,
  "metadata": {
    "colab": {
      "provenance": [],
      "authorship_tag": "ABX9TyNY7tf4bMDkPh9gWA3ADyrV",
      "include_colab_link": true
    },
    "kernelspec": {
      "name": "python3",
      "display_name": "Python 3"
    },
    "language_info": {
      "name": "python"
    },
    "accelerator": "GPU",
    "gpuClass": "standard"
  },
  "cells": [
    {
      "cell_type": "markdown",
      "metadata": {
        "id": "view-in-github",
        "colab_type": "text"
      },
      "source": [
        "<a href=\"https://colab.research.google.com/github/lordWalnuts/jupyter-notebooks/blob/main/peaky_blinders_classification.ipynb\" target=\"_parent\"><img src=\"https://colab.research.google.com/assets/colab-badge.svg\" alt=\"Open In Colab\"/></a>"
      ]
    },
    {
      "cell_type": "markdown",
      "source": [
        "# Setting up"
      ],
      "metadata": {
        "id": "sl985zoKdyxV"
      }
    },
    {
      "cell_type": "code",
      "execution_count": null,
      "metadata": {
        "id": "bM8q49wtVAnv"
      },
      "outputs": [],
      "source": [
        "!pip install -Uqq fastai\n",
        "!pip install duckduckgo_search"
      ]
    },
    {
      "cell_type": "markdown",
      "source": [
        "# Collecting the Data"
      ],
      "metadata": {
        "id": "_pdIUkENd3lu"
      }
    },
    {
      "cell_type": "markdown",
      "source": [
        "### Downloading the Data"
      ],
      "metadata": {
        "id": "HOVFJK_tlCu3"
      }
    },
    {
      "cell_type": "code",
      "source": [
        "from duckduckgo_search import ddg_images\n",
        "from fastcore.all import *\n",
        "from fastdownload import download_url\n",
        "from fastai.vision.all import *\n"
      ],
      "metadata": {
        "id": "FWVE_QDmdgR8"
      },
      "execution_count": null,
      "outputs": []
    },
    {
      "cell_type": "code",
      "source": [
        "def search_images(term,max_images=30):\n",
        "    print(f\"Searching for '{term}'\")\n",
        "    return L(ddg_images(term,max_results=max_images)).itemgot('image')"
      ],
      "metadata": {
        "id": "0zSXnWeEd2hy"
      },
      "execution_count": null,
      "outputs": []
    },
    {
      "cell_type": "code",
      "source": [
        "\n",
        "search_terms_1 = ['Thomas Shelby','Arthur Shelby','Ada Shelby','Polly Gray','Michael Gray','John Shelby']\n",
        "search_terms_2 = ['Cillian Murphy','Paul Anderson','Sophie Rundle','Helen McCrory','Joe Cole','Finn Cole']\n",
        "\n",
        "\n",
        "path = Path('peaky_blinders_family')\n",
        "from time import sleep\n",
        "\n",
        "for index in range(0,len(search_terms_1)):\n",
        "  dest = (path/search_terms_1[index])\n",
        "  dest.mkdir(exist_ok=True,parents=True)\n",
        "  download_images(dest,urls=search_images(f'{search_terms_1[index]} peaky blinders photo',max_images=30))\n",
        "  sleep(10)\n",
        "  download_images(dest,urls=search_images(f'{search_terms_2[index]} actor photo',max_images=30))\n",
        "  resize_images(path/search_terms_1[index],max_size=400,dest=path/search_terms_1[index])"
      ],
      "metadata": {
        "id": "c0ZQedgeezpg"
      },
      "execution_count": null,
      "outputs": []
    },
    {
      "cell_type": "markdown",
      "source": [
        "### Cleaning the Data"
      ],
      "metadata": {
        "id": "Vl57CSZulKbg"
      }
    },
    {
      "cell_type": "code",
      "source": [
        "path = Path('peaky_blinders_family')\n",
        "failed = verify_images(get_image_files(path))\n",
        "failed.map(Path.unlink)\n",
        "len(failed)"
      ],
      "metadata": {
        "id": "WcotKW4jfsDj",
        "colab": {
          "base_uri": "https://localhost:8080/"
        },
        "outputId": "6ed96041-5e42-46b9-c0f0-660cf059c2ba"
      },
      "execution_count": null,
      "outputs": [
        {
          "output_type": "execute_result",
          "data": {
            "text/plain": [
              "6"
            ]
          },
          "metadata": {},
          "execution_count": 5
        }
      ]
    },
    {
      "cell_type": "markdown",
      "source": [
        "### Moving the dataset to Google Drive(Optional)"
      ],
      "metadata": {
        "id": "-rVPI4XAyvFf"
      }
    },
    {
      "cell_type": "code",
      "source": [
        "from google.colab import drive\n",
        "drive.mount('/content/drive')"
      ],
      "metadata": {
        "colab": {
          "base_uri": "https://localhost:8080/"
        },
        "id": "tFSSxCAxldXt",
        "outputId": "ff62a081-3df3-4d76-9352-915e0949f32f"
      },
      "execution_count": null,
      "outputs": [
        {
          "output_type": "stream",
          "name": "stdout",
          "text": [
            "Mounted at /content/drive\n"
          ]
        }
      ]
    },
    {
      "cell_type": "code",
      "source": [
        "!cp peaky_blinders_family/ drive/MyDrive/dataset/ -r"
      ],
      "metadata": {
        "id": "sHYQC3n5mTAG"
      },
      "execution_count": null,
      "outputs": []
    },
    {
      "cell_type": "markdown",
      "source": [
        "# Loading the data into Dataloaders"
      ],
      "metadata": {
        "id": "94YQtBekzVOS"
      }
    },
    {
      "cell_type": "code",
      "source": [
        "dls = DataBlock(\n",
        "    blocks = (ImageBlock,CategoryBlock),\n",
        "    get_items= get_image_files,\n",
        "    splitter = RandomSplitter(valid_pct=0.2,seed=42),\n",
        "    get_y = parent_label,\n",
        "    item_tfms = [Resize(192,method=\"squish\")]\n",
        ")\n",
        "dls = dls.dataloaders(path,bs=32)"
      ],
      "metadata": {
        "id": "-NR6ylc7zZi1"
      },
      "execution_count": null,
      "outputs": []
    },
    {
      "cell_type": "markdown",
      "source": [
        "# Training the Model"
      ],
      "metadata": {
        "id": "uS5RvVui5nCa"
      }
    },
    {
      "cell_type": "code",
      "source": [
        "learn = vision_learner(dls,resnet50,metrics=error_rate)\n",
        "learn.fine_tune(5)"
      ],
      "metadata": {
        "colab": {
          "base_uri": "https://localhost:8080/",
          "height": 270
        },
        "id": "FfW1Kpsl5pRP",
        "outputId": "9a2d877f-2aa3-4ce5-c15e-bdb368de171b"
      },
      "execution_count": null,
      "outputs": [
        {
          "output_type": "display_data",
          "data": {
            "text/plain": [
              "<IPython.core.display.HTML object>"
            ],
            "text/html": [
              "\n",
              "<style>\n",
              "    /* Turns off some styling */\n",
              "    progress {\n",
              "        /* gets rid of default border in Firefox and Opera. */\n",
              "        border: none;\n",
              "        /* Needs to be in here for Safari polyfill so background images work as expected. */\n",
              "        background-size: auto;\n",
              "    }\n",
              "    progress:not([value]), progress:not([value])::-webkit-progress-bar {\n",
              "        background: repeating-linear-gradient(45deg, #7e7e7e, #7e7e7e 10px, #5c5c5c 10px, #5c5c5c 20px);\n",
              "    }\n",
              "    .progress-bar-interrupted, .progress-bar-interrupted::-webkit-progress-bar {\n",
              "        background: #F44336;\n",
              "    }\n",
              "</style>\n"
            ]
          },
          "metadata": {}
        },
        {
          "output_type": "display_data",
          "data": {
            "text/plain": [
              "<IPython.core.display.HTML object>"
            ],
            "text/html": [
              "<table border=\"1\" class=\"dataframe\">\n",
              "  <thead>\n",
              "    <tr style=\"text-align: left;\">\n",
              "      <th>epoch</th>\n",
              "      <th>train_loss</th>\n",
              "      <th>valid_loss</th>\n",
              "      <th>error_rate</th>\n",
              "      <th>time</th>\n",
              "    </tr>\n",
              "  </thead>\n",
              "  <tbody>\n",
              "    <tr>\n",
              "      <td>0</td>\n",
              "      <td>2.344597</td>\n",
              "      <td>1.069694</td>\n",
              "      <td>0.426471</td>\n",
              "      <td>00:02</td>\n",
              "    </tr>\n",
              "  </tbody>\n",
              "</table>"
            ]
          },
          "metadata": {}
        },
        {
          "output_type": "display_data",
          "data": {
            "text/plain": [
              "<IPython.core.display.HTML object>"
            ],
            "text/html": [
              "\n",
              "<style>\n",
              "    /* Turns off some styling */\n",
              "    progress {\n",
              "        /* gets rid of default border in Firefox and Opera. */\n",
              "        border: none;\n",
              "        /* Needs to be in here for Safari polyfill so background images work as expected. */\n",
              "        background-size: auto;\n",
              "    }\n",
              "    progress:not([value]), progress:not([value])::-webkit-progress-bar {\n",
              "        background: repeating-linear-gradient(45deg, #7e7e7e, #7e7e7e 10px, #5c5c5c 10px, #5c5c5c 20px);\n",
              "    }\n",
              "    .progress-bar-interrupted, .progress-bar-interrupted::-webkit-progress-bar {\n",
              "        background: #F44336;\n",
              "    }\n",
              "</style>\n"
            ]
          },
          "metadata": {}
        },
        {
          "output_type": "display_data",
          "data": {
            "text/plain": [
              "<IPython.core.display.HTML object>"
            ],
            "text/html": [
              "<table border=\"1\" class=\"dataframe\">\n",
              "  <thead>\n",
              "    <tr style=\"text-align: left;\">\n",
              "      <th>epoch</th>\n",
              "      <th>train_loss</th>\n",
              "      <th>valid_loss</th>\n",
              "      <th>error_rate</th>\n",
              "      <th>time</th>\n",
              "    </tr>\n",
              "  </thead>\n",
              "  <tbody>\n",
              "    <tr>\n",
              "      <td>0</td>\n",
              "      <td>0.818901</td>\n",
              "      <td>0.911779</td>\n",
              "      <td>0.308824</td>\n",
              "      <td>00:02</td>\n",
              "    </tr>\n",
              "    <tr>\n",
              "      <td>1</td>\n",
              "      <td>0.502134</td>\n",
              "      <td>1.006084</td>\n",
              "      <td>0.338235</td>\n",
              "      <td>00:03</td>\n",
              "    </tr>\n",
              "    <tr>\n",
              "      <td>2</td>\n",
              "      <td>0.375839</td>\n",
              "      <td>0.983983</td>\n",
              "      <td>0.279412</td>\n",
              "      <td>00:03</td>\n",
              "    </tr>\n",
              "    <tr>\n",
              "      <td>3</td>\n",
              "      <td>0.288586</td>\n",
              "      <td>0.886793</td>\n",
              "      <td>0.279412</td>\n",
              "      <td>00:03</td>\n",
              "    </tr>\n",
              "    <tr>\n",
              "      <td>4</td>\n",
              "      <td>0.235215</td>\n",
              "      <td>0.843834</td>\n",
              "      <td>0.279412</td>\n",
              "      <td>00:02</td>\n",
              "    </tr>\n",
              "  </tbody>\n",
              "</table>"
            ]
          },
          "metadata": {}
        }
      ]
    },
    {
      "cell_type": "markdown",
      "source": [
        "# Testing our Model"
      ],
      "metadata": {
        "id": "0waA3jGd8u6g"
      }
    },
    {
      "cell_type": "code",
      "source": [
        "def changeName(name):\n",
        "     if name ==\"Cillian Murphy\":\n",
        "        return \"Thomas Shelby\"\n",
        "     elif name == \"Finn Cole\":\n",
        "        return \"Michael Gray\"\n",
        "     elif name == \"Helen McCrory\":\n",
        "        return \"Thomas Gray\"\n",
        "     elif name == \"Joe Cole\":\n",
        "        return \"John Shelby\"\n",
        "     elif name == \"Paul Anderson\":\n",
        "        return \"Arthur Shelby\"\n",
        "     else:\n",
        "        return \"Ada Shelby\"\n",
        "     "
      ],
      "metadata": {
        "id": "znW0vmLn-T-g"
      },
      "execution_count": null,
      "outputs": []
    },
    {
      "cell_type": "code",
      "source": [
        "im = Path('drive/MyDrive/peaky_test/art1.jpg')\n",
        "member,_,probs = learn.predict(PILImage.create(im))\n",
        "print(f\"This is {member}\")\n",
        "print(f\"Probability it's {member}: {probs[0]:.4f}\")"
      ],
      "metadata": {
        "colab": {
          "base_uri": "https://localhost:8080/",
          "height": 52
        },
        "id": "Fu70esWe7ak2",
        "outputId": "c73e5062-22c6-4f68-a8e3-48c961ffe643"
      },
      "execution_count": null,
      "outputs": [
        {
          "output_type": "display_data",
          "data": {
            "text/plain": [
              "<IPython.core.display.HTML object>"
            ],
            "text/html": [
              "\n",
              "<style>\n",
              "    /* Turns off some styling */\n",
              "    progress {\n",
              "        /* gets rid of default border in Firefox and Opera. */\n",
              "        border: none;\n",
              "        /* Needs to be in here for Safari polyfill so background images work as expected. */\n",
              "        background-size: auto;\n",
              "    }\n",
              "    progress:not([value]), progress:not([value])::-webkit-progress-bar {\n",
              "        background: repeating-linear-gradient(45deg, #7e7e7e, #7e7e7e 10px, #5c5c5c 10px, #5c5c5c 20px);\n",
              "    }\n",
              "    .progress-bar-interrupted, .progress-bar-interrupted::-webkit-progress-bar {\n",
              "        background: #F44336;\n",
              "    }\n",
              "</style>\n"
            ]
          },
          "metadata": {}
        },
        {
          "output_type": "display_data",
          "data": {
            "text/plain": [
              "<IPython.core.display.HTML object>"
            ],
            "text/html": []
          },
          "metadata": {}
        },
        {
          "output_type": "stream",
          "name": "stdout",
          "text": [
            "This is Arthur Shelby\n",
            "Probability it's Arthur Shelby: 0.0000\n"
          ]
        }
      ]
    },
    {
      "cell_type": "code",
      "source": [],
      "metadata": {
        "id": "Qqse3z2w91Ad"
      },
      "execution_count": null,
      "outputs": []
    }
  ]
}